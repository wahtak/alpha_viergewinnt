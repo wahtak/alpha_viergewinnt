{
 "cells": [
  {
   "cell_type": "code",
   "execution_count": null,
   "metadata": {},
   "outputs": [],
   "source": [
    "%load_ext autoreload\n",
    "%autoreload 2\n",
    "\n",
    "from IPython.core.display import display, HTML\n",
    "display(HTML(\"<style>.container { width:100% !important; }</style>\"))"
   ]
  },
  {
   "cell_type": "code",
   "execution_count": null,
   "metadata": {},
   "outputs": [],
   "source": [
    "from random import Random\n",
    "import matplotlib\n",
    "import matplotlib.pyplot as plt\n",
    "matplotlib.rcParams['figure.figsize'] = (30, 10)"
   ]
  },
  {
   "cell_type": "code",
   "execution_count": null,
   "metadata": {},
   "outputs": [],
   "source": [
    "from alpha_viergewinnt.game.board import Player\n",
    "from alpha_viergewinnt.game.tictactoe import Game, WinCondition, DrawCondition\n",
    "from alpha_viergewinnt.player.random_player import RandomPlayer\n",
    "from alpha_viergewinnt.player.mcts_player import MCTSPlayer, create_random_choice_strategy"
   ]
  },
  {
   "cell_type": "code",
   "execution_count": null,
   "metadata": {},
   "outputs": [],
   "source": [
    "win_conditions = {Player.X: WinCondition(Player.X), Player.O: WinCondition(Player.O)}\n",
    "draw_condition = DrawCondition()\n",
    "\n",
    "# seeded random number generator\n",
    "random = Random(1)\n",
    "players = {\n",
    "    Player.X:\n",
    "        MCTSPlayer(\n",
    "            win_condition=win_conditions[Player.X],\n",
    "            loss_condition=win_conditions[Player.O],\n",
    "            draw_condition=draw_condition,\n",
    "            selection_strategy=create_random_choice_strategy(random),\n",
    "            expansion_strategy=create_random_choice_strategy(random),\n",
    "            simulation_strategy=create_random_choice_strategy(random),\n",
    "            iterations=36,\n",
    "            rollouts=100),\n",
    "    Player.O:\n",
    "        RandomPlayer()\n",
    "}\n"
   ]
  },
  {
   "cell_type": "code",
   "execution_count": null,
   "metadata": {
    "scrolled": false
   },
   "outputs": [],
   "source": [
    "game = Game()\n",
    "\n",
    "while True:\n",
    "    print(game)\n",
    "    next_move = players[game.current_player].get_next_move(game)\n",
    "    if game.current_player == Player.X:\n",
    "        players[game.current_player].draw_last_tree()\n",
    "        plt.show()\n",
    "    print('Player %s plays %s' % (game.current_player.name, next_move))\n",
    "\n",
    "    last_player = game.current_player\n",
    "    game.play_move(player=game.current_player, move=next_move)\n",
    "\n",
    "    if game.check(win_conditions[last_player]):\n",
    "        print(game)\n",
    "        print('Player %s wins!' % last_player.name)\n",
    "        break\n",
    "        \n",
    "    if game.check(draw_condition):\n",
    "        print(game)\n",
    "        print('Draw!')\n",
    "        break"
   ]
  },
  {
   "cell_type": "code",
   "execution_count": null,
   "metadata": {},
   "outputs": [],
   "source": []
  },
  {
   "cell_type": "code",
   "execution_count": null,
   "metadata": {},
   "outputs": [],
   "source": []
  }
 ],
 "metadata": {
  "kernelspec": {
   "display_name": "Python 3",
   "language": "python",
   "name": "python3"
  },
  "language_info": {
   "codemirror_mode": {
    "name": "ipython",
    "version": 3
   },
   "file_extension": ".py",
   "mimetype": "text/x-python",
   "name": "python",
   "nbconvert_exporter": "python",
   "pygments_lexer": "ipython3",
   "version": "3.6.3"
  }
 },
 "nbformat": 4,
 "nbformat_minor": 2
}
